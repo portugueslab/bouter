{
 "cells": [
  {
   "cell_type": "markdown",
   "metadata": {},
   "source": [
    "## How to analyse a (Stytra) embedded tail tracking experiment"
   ]
  },
  {
   "cell_type": "markdown",
   "metadata": {},
   "source": [
    "In this tutorial we show how to use bouter to analyse data that was aquired with [Stytra](http://www.portugueslab.com/stytra/).\n",
    "\n",
    "First, some imports:"
   ]
  },
  {
   "cell_type": "code",
   "execution_count": 1,
   "metadata": {
    "execution": {
     "iopub.execute_input": "2021-02-22T21:33:30.918734Z",
     "iopub.status.busy": "2021-02-22T21:33:30.917781Z",
     "iopub.status.idle": "2021-02-22T21:33:31.827804Z",
     "shell.execute_reply": "2021-02-22T21:33:31.827236Z"
    }
   },
   "outputs": [],
   "source": [
    "from bouter import EmbeddedExperiment\n",
    "from bouter import ASSETS_PATH"
   ]
  },
  {
   "cell_type": "markdown",
   "metadata": {},
   "source": [
    "Given a folder containing data from a Stytra experiment, it's very easy to instantiate an `Experiment` object. Here we use example bouter data, otherwise replace the path with the folder to your data:"
   ]
  },
  {
   "cell_type": "code",
   "execution_count": 2,
   "metadata": {
    "execution": {
     "iopub.execute_input": "2021-02-22T21:33:31.833615Z",
     "iopub.status.busy": "2021-02-22T21:33:31.832930Z",
     "iopub.status.idle": "2021-02-22T21:33:31.835665Z",
     "shell.execute_reply": "2021-02-22T21:33:31.835258Z"
    }
   },
   "outputs": [],
   "source": [
    "experiment_data_path = ASSETS_PATH / \"embedded_dataset\"\n",
    "\n",
    "# Initialize the experiment:\n",
    "exp = EmbeddedExperiment(experiment_data_path)"
   ]
  },
  {
   "cell_type": "markdown",
   "metadata": {},
   "source": [
    "## The `Experiment` class"
   ]
  },
  {
   "cell_type": "markdown",
   "metadata": {},
   "source": [
    "`Experiment` objects are objects that behaves like dictionariers with extended magical properties.\n",
    "\n",
    "They have keys, reflecting the Stytra metadata:"
   ]
  },
  {
   "cell_type": "code",
   "execution_count": 3,
   "metadata": {
    "execution": {
     "iopub.execute_input": "2021-02-22T21:33:31.842035Z",
     "iopub.status.busy": "2021-02-22T21:33:31.840458Z",
     "iopub.status.idle": "2021-02-22T21:33:31.844592Z",
     "shell.execute_reply": "2021-02-22T21:33:31.844118Z"
    }
   },
   "outputs": [
    {
     "name": "stdout",
     "output_type": "stream",
     "text": [
      "dict_keys(['camera_params', 'general', 'gui', 'stimulus', 'behavior'])\n"
     ]
    }
   ],
   "source": [
    "print(exp.keys())"
   ]
  },
  {
   "cell_type": "markdown",
   "metadata": {},
   "source": [
    "And looking inside these keys, we found Stytra hierarchical data log:"
   ]
  },
  {
   "cell_type": "code",
   "execution_count": 4,
   "metadata": {
    "execution": {
     "iopub.execute_input": "2021-02-22T21:33:31.850027Z",
     "iopub.status.busy": "2021-02-22T21:33:31.848480Z",
     "iopub.status.idle": "2021-02-22T21:33:31.851676Z",
     "shell.execute_reply": "2021-02-22T21:33:31.851258Z"
    }
   },
   "outputs": [
    {
     "name": "stdout",
     "output_type": "stream",
     "text": [
      "{'age': 8, 'comments': '', 'dish_diameter': '30', 'embedded': True, 'genotype': 'TL', 'id': 10, 'screened': 'not', 'species': 'Danio Rerio', 'treatment': ''}\n"
     ]
    }
   ],
   "source": [
    "print(exp[\"general\"][\"animal\"])"
   ]
  },
  {
   "cell_type": "markdown",
   "metadata": {},
   "source": [
    "In addition, there are some values (*properties*) that are computed from the metadata, invoked in this way:"
   ]
  },
  {
   "cell_type": "code",
   "execution_count": 5,
   "metadata": {
    "execution": {
     "iopub.execute_input": "2021-02-22T21:33:31.855725Z",
     "iopub.status.busy": "2021-02-22T21:33:31.854956Z",
     "iopub.status.idle": "2021-02-22T21:33:31.873321Z",
     "shell.execute_reply": "2021-02-22T21:33:31.873716Z"
    }
   },
   "outputs": [
    {
     "data": {
      "text/plain": [
       "0.003343767676767584"
      ]
     },
     "execution_count": 1,
     "metadata": {},
     "output_type": "execute_result"
    }
   ],
   "source": [
    "# sampling dt of the behavioral tracking\n",
    "exp.behavior_dt"
   ]
  },
  {
   "cell_type": "markdown",
   "metadata": {},
   "source": [
    "There's several useful properties. E.g.\n",
    "\n",
    "* Fish id from folder:"
   ]
  },
  {
   "cell_type": "code",
   "execution_count": 6,
   "metadata": {
    "execution": {
     "iopub.execute_input": "2021-02-22T21:33:31.878847Z",
     "iopub.status.busy": "2021-02-22T21:33:31.878221Z",
     "iopub.status.idle": "2021-02-22T21:33:31.881110Z",
     "shell.execute_reply": "2021-02-22T21:33:31.881502Z"
    }
   },
   "outputs": [
    {
     "data": {
      "text/plain": [
       "'181115_f10'"
      ]
     },
     "execution_count": 1,
     "metadata": {},
     "output_type": "execute_result"
    }
   ],
   "source": [
    "exp.fish_id"
   ]
  },
  {
   "cell_type": "markdown",
   "metadata": {},
   "source": [
    "* Unique id for the experiment:"
   ]
  },
  {
   "cell_type": "code",
   "execution_count": 7,
   "metadata": {
    "execution": {
     "iopub.execute_input": "2021-02-22T21:33:31.886091Z",
     "iopub.status.busy": "2021-02-22T21:33:31.885495Z",
     "iopub.status.idle": "2021-02-22T21:33:31.888362Z",
     "shell.execute_reply": "2021-02-22T21:33:31.888757Z"
    }
   },
   "outputs": [
    {
     "data": {
      "text/plain": [
       "'181115_f10_192316'"
      ]
     },
     "execution_count": 1,
     "metadata": {},
     "output_type": "execute_result"
    }
   ],
   "source": [
    "exp.full_name"
   ]
  },
  {
   "cell_type": "markdown",
   "metadata": {},
   "source": [
    "* Protocol name:"
   ]
  },
  {
   "cell_type": "code",
   "execution_count": 8,
   "metadata": {
    "execution": {
     "iopub.execute_input": "2021-02-22T21:33:31.893463Z",
     "iopub.status.busy": "2021-02-22T21:33:31.892850Z",
     "iopub.status.idle": "2021-02-22T21:33:31.895605Z",
     "shell.execute_reply": "2021-02-22T21:33:31.895986Z"
    }
   },
   "outputs": [
    {
     "data": {
      "text/plain": [
       "'closed_open_loop'"
      ]
     },
     "execution_count": 1,
     "metadata": {},
     "output_type": "execute_result"
    }
   ],
   "source": [
    "exp.protocol_name"
   ]
  },
  {
   "cell_type": "markdown",
   "metadata": {},
   "source": [
    "* Simplified protocol parameters dict:"
   ]
  },
  {
   "cell_type": "code",
   "execution_count": 9,
   "metadata": {
    "execution": {
     "iopub.execute_input": "2021-02-22T21:33:31.901714Z",
     "iopub.status.busy": "2021-02-22T21:33:31.900763Z",
     "iopub.status.idle": "2021-02-22T21:33:31.903750Z",
     "shell.execute_reply": "2021-02-22T21:33:31.904143Z"
    }
   },
   "outputs": [
    {
     "data": {
      "text/plain": [
       "{'grating_cycle': 10,\n",
       " 'grating_duration': 4.0,\n",
       " 'inter_stim_pause': 0,\n",
       " 'n_repeats': 1,\n",
       " 'post_pause': 0.0,\n",
       " 'pre_pause': 0.0}"
      ]
     },
     "execution_count": 1,
     "metadata": {},
     "output_type": "execute_result"
    }
   ],
   "source": [
    "exp.protocol_parameters"
   ]
  },
  {
   "cell_type": "markdown",
   "metadata": {},
   "source": [
    "* Start and end times of each stimulus in the log:"
   ]
  },
  {
   "cell_type": "code",
   "execution_count": 10,
   "metadata": {
    "execution": {
     "iopub.execute_input": "2021-02-22T21:33:31.909712Z",
     "iopub.status.busy": "2021-02-22T21:33:31.908779Z",
     "iopub.status.idle": "2021-02-22T21:33:31.913823Z",
     "shell.execute_reply": "2021-02-22T21:33:31.914222Z"
    }
   },
   "outputs": [
    {
     "data": {
      "text/plain": [
       "(array([0.002]), array([600.004995]))"
      ]
     },
     "execution_count": 1,
     "metadata": {},
     "output_type": "execute_result"
    }
   ],
   "source": [
    "(exp.stim_start_times, exp.stim_end_times)"
   ]
  },
  {
   "cell_type": "markdown",
   "metadata": {},
   "source": [
    "## The behavioural logs"
   ]
  },
  {
   "cell_type": "markdown",
   "metadata": {},
   "source": [
    "The bulk of the behavioural data is contained in the stytra log files.\n",
    "With properties you can look at the logs of the experiments, returned as `pd.DataFrame`s; depending on what experiment you run you'll find for example:"
   ]
  },
  {
   "cell_type": "markdown",
   "metadata": {},
   "source": [
    " * `Experiment.stimulus_log`: the dynamic log of stytra stimulus"
   ]
  },
  {
   "cell_type": "code",
   "execution_count": 11,
   "metadata": {
    "execution": {
     "iopub.execute_input": "2021-02-22T21:33:31.921619Z",
     "iopub.status.busy": "2021-02-22T21:33:31.918790Z",
     "iopub.status.idle": "2021-02-22T21:33:31.939684Z",
     "shell.execute_reply": "2021-02-22T21:33:31.940095Z"
    }
   },
   "outputs": [
    {
     "data": {
      "text/html": [
       "<div>\n",
       "<style scoped>\n",
       "    .dataframe tbody tr th:only-of-type {\n",
       "        vertical-align: middle;\n",
       "    }\n",
       "\n",
       "    .dataframe tbody tr th {\n",
       "        vertical-align: top;\n",
       "    }\n",
       "\n",
       "    .dataframe thead th {\n",
       "        text-align: right;\n",
       "    }\n",
       "</style>\n",
       "<table border=\"1\" class=\"dataframe\">\n",
       "  <thead>\n",
       "    <tr style=\"text-align: right;\">\n",
       "      <th></th>\n",
       "      <th>closed loop 1D_vel</th>\n",
       "      <th>closed loop 1D_base_vel</th>\n",
       "      <th>closed loop 1D_gain</th>\n",
       "      <th>closed loop 1D_lag</th>\n",
       "      <th>closed loop 1D_fish_swimming</th>\n",
       "      <th>t</th>\n",
       "    </tr>\n",
       "  </thead>\n",
       "  <tbody>\n",
       "    <tr>\n",
       "      <th>0</th>\n",
       "      <td>-10.000000</td>\n",
       "      <td>-10.0</td>\n",
       "      <td>1.0</td>\n",
       "      <td>0.0</td>\n",
       "      <td>0.0</td>\n",
       "      <td>0.026302</td>\n",
       "    </tr>\n",
       "    <tr>\n",
       "      <th>1</th>\n",
       "      <td>-10.000000</td>\n",
       "      <td>-10.0</td>\n",
       "      <td>1.0</td>\n",
       "      <td>0.0</td>\n",
       "      <td>0.0</td>\n",
       "      <td>0.070306</td>\n",
       "    </tr>\n",
       "    <tr>\n",
       "      <th>2</th>\n",
       "      <td>-10.000000</td>\n",
       "      <td>-10.0</td>\n",
       "      <td>1.0</td>\n",
       "      <td>0.0</td>\n",
       "      <td>0.0</td>\n",
       "      <td>0.104309</td>\n",
       "    </tr>\n",
       "    <tr>\n",
       "      <th>3</th>\n",
       "      <td>-10.000000</td>\n",
       "      <td>-10.0</td>\n",
       "      <td>1.0</td>\n",
       "      <td>0.0</td>\n",
       "      <td>0.0</td>\n",
       "      <td>0.158315</td>\n",
       "    </tr>\n",
       "    <tr>\n",
       "      <th>4</th>\n",
       "      <td>1.554264</td>\n",
       "      <td>-10.0</td>\n",
       "      <td>1.0</td>\n",
       "      <td>0.0</td>\n",
       "      <td>1.0</td>\n",
       "      <td>0.189318</td>\n",
       "    </tr>\n",
       "  </tbody>\n",
       "</table>\n",
       "</div>"
      ],
      "text/plain": [
       "   closed loop 1D_vel  closed loop 1D_base_vel  closed loop 1D_gain  \\\n",
       "0          -10.000000                    -10.0                  1.0   \n",
       "1          -10.000000                    -10.0                  1.0   \n",
       "2          -10.000000                    -10.0                  1.0   \n",
       "3          -10.000000                    -10.0                  1.0   \n",
       "4            1.554264                    -10.0                  1.0   \n",
       "\n",
       "   closed loop 1D_lag  closed loop 1D_fish_swimming         t  \n",
       "0                 0.0                           0.0  0.026302  \n",
       "1                 0.0                           0.0  0.070306  \n",
       "2                 0.0                           0.0  0.104309  \n",
       "3                 0.0                           0.0  0.158315  \n",
       "4                 0.0                           1.0  0.189318  "
      ]
     },
     "execution_count": 1,
     "metadata": {},
     "output_type": "execute_result"
    }
   ],
   "source": [
    "exp.stimulus_log.head()"
   ]
  },
  {
   "cell_type": "markdown",
   "metadata": {},
   "source": [
    " * `Experiment.behavior_log`: the dynamic log of the tracked tail (or eye, position, etc.):"
   ]
  },
  {
   "cell_type": "code",
   "execution_count": 12,
   "metadata": {
    "execution": {
     "iopub.execute_input": "2021-02-22T21:33:31.965010Z",
     "iopub.status.busy": "2021-02-22T21:33:31.964035Z",
     "iopub.status.idle": "2021-02-22T21:33:31.967233Z",
     "shell.execute_reply": "2021-02-22T21:33:31.967625Z"
    }
   },
   "outputs": [
    {
     "data": {
      "text/html": [
       "<div>\n",
       "<style scoped>\n",
       "    .dataframe tbody tr th:only-of-type {\n",
       "        vertical-align: middle;\n",
       "    }\n",
       "\n",
       "    .dataframe tbody tr th {\n",
       "        vertical-align: top;\n",
       "    }\n",
       "\n",
       "    .dataframe thead th {\n",
       "        text-align: right;\n",
       "    }\n",
       "</style>\n",
       "<table border=\"1\" class=\"dataframe\">\n",
       "  <thead>\n",
       "    <tr style=\"text-align: right;\">\n",
       "      <th></th>\n",
       "      <th>tail_sum</th>\n",
       "      <th>theta_00</th>\n",
       "      <th>theta_01</th>\n",
       "      <th>theta_02</th>\n",
       "      <th>theta_03</th>\n",
       "      <th>theta_04</th>\n",
       "      <th>theta_05</th>\n",
       "      <th>theta_06</th>\n",
       "      <th>theta_07</th>\n",
       "      <th>theta_08</th>\n",
       "      <th>...</th>\n",
       "      <th>theta_16</th>\n",
       "      <th>theta_17</th>\n",
       "      <th>theta_18</th>\n",
       "      <th>theta_19</th>\n",
       "      <th>theta_20</th>\n",
       "      <th>theta_21</th>\n",
       "      <th>theta_22</th>\n",
       "      <th>theta_23</th>\n",
       "      <th>theta_24</th>\n",
       "      <th>t</th>\n",
       "    </tr>\n",
       "  </thead>\n",
       "  <tbody>\n",
       "    <tr>\n",
       "      <th>0</th>\n",
       "      <td>0.009258</td>\n",
       "      <td>0.054718</td>\n",
       "      <td>0.006608</td>\n",
       "      <td>-0.003954</td>\n",
       "      <td>0.002449</td>\n",
       "      <td>0.009792</td>\n",
       "      <td>0.007008</td>\n",
       "      <td>-0.012253</td>\n",
       "      <td>0.001501</td>\n",
       "      <td>0.001586</td>\n",
       "      <td>...</td>\n",
       "      <td>-0.000696</td>\n",
       "      <td>0.003783</td>\n",
       "      <td>0.029968</td>\n",
       "      <td>0.078343</td>\n",
       "      <td>-0.015539</td>\n",
       "      <td>0.032789</td>\n",
       "      <td>0.030664</td>\n",
       "      <td>0.018611</td>\n",
       "      <td>0.051973</td>\n",
       "      <td>0.000299</td>\n",
       "    </tr>\n",
       "    <tr>\n",
       "      <th>1</th>\n",
       "      <td>0.007062</td>\n",
       "      <td>0.054792</td>\n",
       "      <td>0.006414</td>\n",
       "      <td>-0.003654</td>\n",
       "      <td>0.002591</td>\n",
       "      <td>0.009731</td>\n",
       "      <td>0.006824</td>\n",
       "      <td>-0.012492</td>\n",
       "      <td>0.001748</td>\n",
       "      <td>0.001355</td>\n",
       "      <td>...</td>\n",
       "      <td>0.000460</td>\n",
       "      <td>0.002993</td>\n",
       "      <td>0.030286</td>\n",
       "      <td>0.075214</td>\n",
       "      <td>-0.014672</td>\n",
       "      <td>0.033336</td>\n",
       "      <td>0.030252</td>\n",
       "      <td>0.016750</td>\n",
       "      <td>0.051518</td>\n",
       "      <td>0.004300</td>\n",
       "    </tr>\n",
       "    <tr>\n",
       "      <th>2</th>\n",
       "      <td>0.007431</td>\n",
       "      <td>0.054551</td>\n",
       "      <td>0.006468</td>\n",
       "      <td>-0.003410</td>\n",
       "      <td>0.003069</td>\n",
       "      <td>0.009150</td>\n",
       "      <td>0.007100</td>\n",
       "      <td>-0.012553</td>\n",
       "      <td>0.001517</td>\n",
       "      <td>0.001845</td>\n",
       "      <td>...</td>\n",
       "      <td>0.000749</td>\n",
       "      <td>0.003484</td>\n",
       "      <td>0.031352</td>\n",
       "      <td>0.073967</td>\n",
       "      <td>-0.013793</td>\n",
       "      <td>0.031789</td>\n",
       "      <td>0.030658</td>\n",
       "      <td>0.016382</td>\n",
       "      <td>0.052068</td>\n",
       "      <td>0.007300</td>\n",
       "    </tr>\n",
       "    <tr>\n",
       "      <th>3</th>\n",
       "      <td>0.006643</td>\n",
       "      <td>0.054923</td>\n",
       "      <td>0.006485</td>\n",
       "      <td>-0.003741</td>\n",
       "      <td>0.002603</td>\n",
       "      <td>0.009605</td>\n",
       "      <td>0.006857</td>\n",
       "      <td>-0.012986</td>\n",
       "      <td>0.001931</td>\n",
       "      <td>0.002025</td>\n",
       "      <td>...</td>\n",
       "      <td>0.000263</td>\n",
       "      <td>0.003009</td>\n",
       "      <td>0.030150</td>\n",
       "      <td>0.075574</td>\n",
       "      <td>-0.014799</td>\n",
       "      <td>0.032864</td>\n",
       "      <td>0.031805</td>\n",
       "      <td>0.016760</td>\n",
       "      <td>0.051292</td>\n",
       "      <td>0.010300</td>\n",
       "    </tr>\n",
       "    <tr>\n",
       "      <th>4</th>\n",
       "      <td>0.007127</td>\n",
       "      <td>0.054769</td>\n",
       "      <td>0.006760</td>\n",
       "      <td>-0.004054</td>\n",
       "      <td>0.002216</td>\n",
       "      <td>0.010527</td>\n",
       "      <td>0.007025</td>\n",
       "      <td>-0.012684</td>\n",
       "      <td>0.001756</td>\n",
       "      <td>0.001611</td>\n",
       "      <td>...</td>\n",
       "      <td>-0.000001</td>\n",
       "      <td>0.003914</td>\n",
       "      <td>0.029962</td>\n",
       "      <td>0.073601</td>\n",
       "      <td>-0.014057</td>\n",
       "      <td>0.033337</td>\n",
       "      <td>0.030134</td>\n",
       "      <td>0.016966</td>\n",
       "      <td>0.051691</td>\n",
       "      <td>0.014301</td>\n",
       "    </tr>\n",
       "  </tbody>\n",
       "</table>\n",
       "<p>5 rows × 27 columns</p>\n",
       "</div>"
      ],
      "text/plain": [
       "   tail_sum  theta_00  theta_01  theta_02  theta_03  theta_04  theta_05  \\\n",
       "0  0.009258  0.054718  0.006608 -0.003954  0.002449  0.009792  0.007008   \n",
       "1  0.007062  0.054792  0.006414 -0.003654  0.002591  0.009731  0.006824   \n",
       "2  0.007431  0.054551  0.006468 -0.003410  0.003069  0.009150  0.007100   \n",
       "3  0.006643  0.054923  0.006485 -0.003741  0.002603  0.009605  0.006857   \n",
       "4  0.007127  0.054769  0.006760 -0.004054  0.002216  0.010527  0.007025   \n",
       "\n",
       "   theta_06  theta_07  theta_08  ...  theta_16  theta_17  theta_18  theta_19  \\\n",
       "0 -0.012253  0.001501  0.001586  ... -0.000696  0.003783  0.029968  0.078343   \n",
       "1 -0.012492  0.001748  0.001355  ...  0.000460  0.002993  0.030286  0.075214   \n",
       "2 -0.012553  0.001517  0.001845  ...  0.000749  0.003484  0.031352  0.073967   \n",
       "3 -0.012986  0.001931  0.002025  ...  0.000263  0.003009  0.030150  0.075574   \n",
       "4 -0.012684  0.001756  0.001611  ... -0.000001  0.003914  0.029962  0.073601   \n",
       "\n",
       "   theta_20  theta_21  theta_22  theta_23  theta_24         t  \n",
       "0 -0.015539  0.032789  0.030664  0.018611  0.051973  0.000299  \n",
       "1 -0.014672  0.033336  0.030252  0.016750  0.051518  0.004300  \n",
       "2 -0.013793  0.031789  0.030658  0.016382  0.052068  0.007300  \n",
       "3 -0.014799  0.032864  0.031805  0.016760  0.051292  0.010300  \n",
       "4 -0.014057  0.033337  0.030134  0.016966  0.051691  0.014301  \n",
       "\n",
       "[5 rows x 27 columns]"
      ]
     },
     "execution_count": 1,
     "metadata": {},
     "output_type": "execute_result"
    }
   ],
   "source": [
    "exp.behavior_log.head()"
   ]
  },
  {
   "cell_type": "markdown",
   "metadata": {},
   "source": [
    "### Filter the tail log"
   ]
  },
  {
   "cell_type": "markdown",
   "metadata": {},
   "source": [
    "Sometimes, Stytra will mess the tracking of the last tail segments. Luckily, this can be fixed using a custom interpolation function. It uses n=`continue_curvature` points to average the difference of consecutive segments and fill the nan values using the same incremental difference. This in general is safe as long as the tail tracking was not completely off.\n",
    "\n",
    "To use it, before using the behavior log, run the following:"
   ]
  },
  {
   "cell_type": "code",
   "execution_count": 13,
   "metadata": {
    "execution": {
     "iopub.execute_input": "2021-02-22T21:33:31.972995Z",
     "iopub.status.busy": "2021-02-22T21:33:31.972120Z",
     "iopub.status.idle": "2021-02-22T21:33:33.149518Z",
     "shell.execute_reply": "2021-02-22T21:33:33.149946Z"
    }
   },
   "outputs": [
    {
     "data": {
      "text/html": [
       "<div>\n",
       "<style scoped>\n",
       "    .dataframe tbody tr th:only-of-type {\n",
       "        vertical-align: middle;\n",
       "    }\n",
       "\n",
       "    .dataframe tbody tr th {\n",
       "        vertical-align: top;\n",
       "    }\n",
       "\n",
       "    .dataframe thead th {\n",
       "        text-align: right;\n",
       "    }\n",
       "</style>\n",
       "<table border=\"1\" class=\"dataframe\">\n",
       "  <thead>\n",
       "    <tr style=\"text-align: right;\">\n",
       "      <th></th>\n",
       "      <th>tail_sum</th>\n",
       "      <th>theta_00</th>\n",
       "      <th>theta_01</th>\n",
       "      <th>theta_02</th>\n",
       "      <th>theta_03</th>\n",
       "      <th>theta_04</th>\n",
       "      <th>theta_05</th>\n",
       "      <th>theta_06</th>\n",
       "      <th>theta_07</th>\n",
       "      <th>theta_08</th>\n",
       "      <th>...</th>\n",
       "      <th>theta_17</th>\n",
       "      <th>theta_18</th>\n",
       "      <th>theta_19</th>\n",
       "      <th>theta_20</th>\n",
       "      <th>theta_21</th>\n",
       "      <th>theta_22</th>\n",
       "      <th>theta_23</th>\n",
       "      <th>theta_24</th>\n",
       "      <th>t</th>\n",
       "      <th>missing_n</th>\n",
       "    </tr>\n",
       "  </thead>\n",
       "  <tbody>\n",
       "    <tr>\n",
       "      <th>0</th>\n",
       "      <td>0.009258</td>\n",
       "      <td>0.054718</td>\n",
       "      <td>0.006608</td>\n",
       "      <td>-0.003954</td>\n",
       "      <td>0.002449</td>\n",
       "      <td>0.009792</td>\n",
       "      <td>0.007008</td>\n",
       "      <td>-0.012253</td>\n",
       "      <td>0.001501</td>\n",
       "      <td>0.001586</td>\n",
       "      <td>...</td>\n",
       "      <td>0.003783</td>\n",
       "      <td>0.029968</td>\n",
       "      <td>0.078343</td>\n",
       "      <td>-0.015539</td>\n",
       "      <td>0.032789</td>\n",
       "      <td>0.030664</td>\n",
       "      <td>0.018611</td>\n",
       "      <td>0.051973</td>\n",
       "      <td>0.000299</td>\n",
       "      <td>0</td>\n",
       "    </tr>\n",
       "    <tr>\n",
       "      <th>1</th>\n",
       "      <td>0.007062</td>\n",
       "      <td>0.054792</td>\n",
       "      <td>0.006414</td>\n",
       "      <td>-0.003654</td>\n",
       "      <td>0.002591</td>\n",
       "      <td>0.009731</td>\n",
       "      <td>0.006824</td>\n",
       "      <td>-0.012492</td>\n",
       "      <td>0.001748</td>\n",
       "      <td>0.001355</td>\n",
       "      <td>...</td>\n",
       "      <td>0.002993</td>\n",
       "      <td>0.030286</td>\n",
       "      <td>0.075214</td>\n",
       "      <td>-0.014672</td>\n",
       "      <td>0.033336</td>\n",
       "      <td>0.030252</td>\n",
       "      <td>0.016750</td>\n",
       "      <td>0.051518</td>\n",
       "      <td>0.004300</td>\n",
       "      <td>0</td>\n",
       "    </tr>\n",
       "    <tr>\n",
       "      <th>2</th>\n",
       "      <td>0.007431</td>\n",
       "      <td>0.054551</td>\n",
       "      <td>0.006468</td>\n",
       "      <td>-0.003410</td>\n",
       "      <td>0.003069</td>\n",
       "      <td>0.009150</td>\n",
       "      <td>0.007100</td>\n",
       "      <td>-0.012553</td>\n",
       "      <td>0.001517</td>\n",
       "      <td>0.001845</td>\n",
       "      <td>...</td>\n",
       "      <td>0.003484</td>\n",
       "      <td>0.031352</td>\n",
       "      <td>0.073967</td>\n",
       "      <td>-0.013793</td>\n",
       "      <td>0.031789</td>\n",
       "      <td>0.030658</td>\n",
       "      <td>0.016382</td>\n",
       "      <td>0.052068</td>\n",
       "      <td>0.007300</td>\n",
       "      <td>0</td>\n",
       "    </tr>\n",
       "    <tr>\n",
       "      <th>3</th>\n",
       "      <td>0.006643</td>\n",
       "      <td>0.054923</td>\n",
       "      <td>0.006485</td>\n",
       "      <td>-0.003741</td>\n",
       "      <td>0.002603</td>\n",
       "      <td>0.009605</td>\n",
       "      <td>0.006857</td>\n",
       "      <td>-0.012986</td>\n",
       "      <td>0.001931</td>\n",
       "      <td>0.002025</td>\n",
       "      <td>...</td>\n",
       "      <td>0.003009</td>\n",
       "      <td>0.030150</td>\n",
       "      <td>0.075574</td>\n",
       "      <td>-0.014799</td>\n",
       "      <td>0.032864</td>\n",
       "      <td>0.031805</td>\n",
       "      <td>0.016760</td>\n",
       "      <td>0.051292</td>\n",
       "      <td>0.010300</td>\n",
       "      <td>0</td>\n",
       "    </tr>\n",
       "    <tr>\n",
       "      <th>4</th>\n",
       "      <td>0.007127</td>\n",
       "      <td>0.054769</td>\n",
       "      <td>0.006760</td>\n",
       "      <td>-0.004054</td>\n",
       "      <td>0.002216</td>\n",
       "      <td>0.010527</td>\n",
       "      <td>0.007025</td>\n",
       "      <td>-0.012684</td>\n",
       "      <td>0.001756</td>\n",
       "      <td>0.001611</td>\n",
       "      <td>...</td>\n",
       "      <td>0.003914</td>\n",
       "      <td>0.029962</td>\n",
       "      <td>0.073601</td>\n",
       "      <td>-0.014057</td>\n",
       "      <td>0.033337</td>\n",
       "      <td>0.030134</td>\n",
       "      <td>0.016966</td>\n",
       "      <td>0.051691</td>\n",
       "      <td>0.014301</td>\n",
       "      <td>0</td>\n",
       "    </tr>\n",
       "  </tbody>\n",
       "</table>\n",
       "<p>5 rows × 28 columns</p>\n",
       "</div>"
      ],
      "text/plain": [
       "   tail_sum  theta_00  theta_01  theta_02  theta_03  theta_04  theta_05  \\\n",
       "0  0.009258  0.054718  0.006608 -0.003954  0.002449  0.009792  0.007008   \n",
       "1  0.007062  0.054792  0.006414 -0.003654  0.002591  0.009731  0.006824   \n",
       "2  0.007431  0.054551  0.006468 -0.003410  0.003069  0.009150  0.007100   \n",
       "3  0.006643  0.054923  0.006485 -0.003741  0.002603  0.009605  0.006857   \n",
       "4  0.007127  0.054769  0.006760 -0.004054  0.002216  0.010527  0.007025   \n",
       "\n",
       "   theta_06  theta_07  theta_08  ...  theta_17  theta_18  theta_19  theta_20  \\\n",
       "0 -0.012253  0.001501  0.001586  ...  0.003783  0.029968  0.078343 -0.015539   \n",
       "1 -0.012492  0.001748  0.001355  ...  0.002993  0.030286  0.075214 -0.014672   \n",
       "2 -0.012553  0.001517  0.001845  ...  0.003484  0.031352  0.073967 -0.013793   \n",
       "3 -0.012986  0.001931  0.002025  ...  0.003009  0.030150  0.075574 -0.014799   \n",
       "4 -0.012684  0.001756  0.001611  ...  0.003914  0.029962  0.073601 -0.014057   \n",
       "\n",
       "   theta_21  theta_22  theta_23  theta_24         t  missing_n  \n",
       "0  0.032789  0.030664  0.018611  0.051973  0.000299          0  \n",
       "1  0.033336  0.030252  0.016750  0.051518  0.004300          0  \n",
       "2  0.031789  0.030658  0.016382  0.052068  0.007300          0  \n",
       "3  0.032864  0.031805  0.016760  0.051292  0.010300          0  \n",
       "4  0.033337  0.030134  0.016966  0.051691  0.014301          0  \n",
       "\n",
       "[5 rows x 28 columns]"
      ]
     },
     "execution_count": 1,
     "metadata": {},
     "output_type": "execute_result"
    }
   ],
   "source": [
    "exp.reconstruct_missing_segments(continue_curvature=4)\n",
    "exp.behavior_log.head()"
   ]
  },
  {
   "cell_type": "markdown",
   "metadata": {},
   "source": [
    "### Extract and analyse bouts"
   ]
  },
  {
   "cell_type": "markdown",
   "metadata": {},
   "source": [
    "To analyse bouts, we will need to:\n",
    "\n",
    "1. Compute vigor\n",
    "2. Detect bouts\n",
    "3. (Optional) Extract bout statistics"
   ]
  },
  {
   "cell_type": "markdown",
   "metadata": {},
   "source": [
    "**1. Compute vigor**: use a rolling standard deviation to infer fish speed. After calling the function, a `exp._behavior_log[\"vigor\"]` column is added to our `exp._behavior_log` dataframe.\n",
    "\n",
    "`vigor_duration_s` is the window for the rolling std in s; the default 0.05 is the lab standard."
   ]
  },
  {
   "cell_type": "code",
   "execution_count": 14,
   "metadata": {
    "execution": {
     "iopub.execute_input": "2021-02-22T21:33:33.155747Z",
     "iopub.status.busy": "2021-02-22T21:33:33.154940Z",
     "iopub.status.idle": "2021-02-22T21:33:33.179684Z",
     "shell.execute_reply": "2021-02-22T21:33:33.180071Z"
    }
   },
   "outputs": [
    {
     "data": {
      "text/html": [
       "<div>\n",
       "<style scoped>\n",
       "    .dataframe tbody tr th:only-of-type {\n",
       "        vertical-align: middle;\n",
       "    }\n",
       "\n",
       "    .dataframe tbody tr th {\n",
       "        vertical-align: top;\n",
       "    }\n",
       "\n",
       "    .dataframe thead th {\n",
       "        text-align: right;\n",
       "    }\n",
       "</style>\n",
       "<table border=\"1\" class=\"dataframe\">\n",
       "  <thead>\n",
       "    <tr style=\"text-align: right;\">\n",
       "      <th></th>\n",
       "      <th>tail_sum</th>\n",
       "      <th>theta_00</th>\n",
       "      <th>theta_01</th>\n",
       "      <th>theta_02</th>\n",
       "      <th>theta_03</th>\n",
       "      <th>theta_04</th>\n",
       "      <th>theta_05</th>\n",
       "      <th>theta_06</th>\n",
       "      <th>theta_07</th>\n",
       "      <th>theta_08</th>\n",
       "      <th>...</th>\n",
       "      <th>theta_18</th>\n",
       "      <th>theta_19</th>\n",
       "      <th>theta_20</th>\n",
       "      <th>theta_21</th>\n",
       "      <th>theta_22</th>\n",
       "      <th>theta_23</th>\n",
       "      <th>theta_24</th>\n",
       "      <th>t</th>\n",
       "      <th>missing_n</th>\n",
       "      <th>vigor</th>\n",
       "    </tr>\n",
       "  </thead>\n",
       "  <tbody>\n",
       "    <tr>\n",
       "      <th>0</th>\n",
       "      <td>0.009258</td>\n",
       "      <td>0.054718</td>\n",
       "      <td>0.006608</td>\n",
       "      <td>-0.003954</td>\n",
       "      <td>0.002449</td>\n",
       "      <td>0.009792</td>\n",
       "      <td>0.007008</td>\n",
       "      <td>-0.012253</td>\n",
       "      <td>0.001501</td>\n",
       "      <td>0.001586</td>\n",
       "      <td>...</td>\n",
       "      <td>0.029968</td>\n",
       "      <td>0.078343</td>\n",
       "      <td>-0.015539</td>\n",
       "      <td>0.032789</td>\n",
       "      <td>0.030664</td>\n",
       "      <td>0.018611</td>\n",
       "      <td>0.051973</td>\n",
       "      <td>0.000299</td>\n",
       "      <td>0</td>\n",
       "      <td>NaN</td>\n",
       "    </tr>\n",
       "    <tr>\n",
       "      <th>1</th>\n",
       "      <td>0.007062</td>\n",
       "      <td>0.054792</td>\n",
       "      <td>0.006414</td>\n",
       "      <td>-0.003654</td>\n",
       "      <td>0.002591</td>\n",
       "      <td>0.009731</td>\n",
       "      <td>0.006824</td>\n",
       "      <td>-0.012492</td>\n",
       "      <td>0.001748</td>\n",
       "      <td>0.001355</td>\n",
       "      <td>...</td>\n",
       "      <td>0.030286</td>\n",
       "      <td>0.075214</td>\n",
       "      <td>-0.014672</td>\n",
       "      <td>0.033336</td>\n",
       "      <td>0.030252</td>\n",
       "      <td>0.016750</td>\n",
       "      <td>0.051518</td>\n",
       "      <td>0.004300</td>\n",
       "      <td>0</td>\n",
       "      <td>NaN</td>\n",
       "    </tr>\n",
       "    <tr>\n",
       "      <th>2</th>\n",
       "      <td>0.007431</td>\n",
       "      <td>0.054551</td>\n",
       "      <td>0.006468</td>\n",
       "      <td>-0.003410</td>\n",
       "      <td>0.003069</td>\n",
       "      <td>0.009150</td>\n",
       "      <td>0.007100</td>\n",
       "      <td>-0.012553</td>\n",
       "      <td>0.001517</td>\n",
       "      <td>0.001845</td>\n",
       "      <td>...</td>\n",
       "      <td>0.031352</td>\n",
       "      <td>0.073967</td>\n",
       "      <td>-0.013793</td>\n",
       "      <td>0.031789</td>\n",
       "      <td>0.030658</td>\n",
       "      <td>0.016382</td>\n",
       "      <td>0.052068</td>\n",
       "      <td>0.007300</td>\n",
       "      <td>0</td>\n",
       "      <td>NaN</td>\n",
       "    </tr>\n",
       "    <tr>\n",
       "      <th>3</th>\n",
       "      <td>0.006643</td>\n",
       "      <td>0.054923</td>\n",
       "      <td>0.006485</td>\n",
       "      <td>-0.003741</td>\n",
       "      <td>0.002603</td>\n",
       "      <td>0.009605</td>\n",
       "      <td>0.006857</td>\n",
       "      <td>-0.012986</td>\n",
       "      <td>0.001931</td>\n",
       "      <td>0.002025</td>\n",
       "      <td>...</td>\n",
       "      <td>0.030150</td>\n",
       "      <td>0.075574</td>\n",
       "      <td>-0.014799</td>\n",
       "      <td>0.032864</td>\n",
       "      <td>0.031805</td>\n",
       "      <td>0.016760</td>\n",
       "      <td>0.051292</td>\n",
       "      <td>0.010300</td>\n",
       "      <td>0</td>\n",
       "      <td>NaN</td>\n",
       "    </tr>\n",
       "    <tr>\n",
       "      <th>4</th>\n",
       "      <td>0.007127</td>\n",
       "      <td>0.054769</td>\n",
       "      <td>0.006760</td>\n",
       "      <td>-0.004054</td>\n",
       "      <td>0.002216</td>\n",
       "      <td>0.010527</td>\n",
       "      <td>0.007025</td>\n",
       "      <td>-0.012684</td>\n",
       "      <td>0.001756</td>\n",
       "      <td>0.001611</td>\n",
       "      <td>...</td>\n",
       "      <td>0.029962</td>\n",
       "      <td>0.073601</td>\n",
       "      <td>-0.014057</td>\n",
       "      <td>0.033337</td>\n",
       "      <td>0.030134</td>\n",
       "      <td>0.016966</td>\n",
       "      <td>0.051691</td>\n",
       "      <td>0.014301</td>\n",
       "      <td>0</td>\n",
       "      <td>NaN</td>\n",
       "    </tr>\n",
       "  </tbody>\n",
       "</table>\n",
       "<p>5 rows × 29 columns</p>\n",
       "</div>"
      ],
      "text/plain": [
       "   tail_sum  theta_00  theta_01  theta_02  theta_03  theta_04  theta_05  \\\n",
       "0  0.009258  0.054718  0.006608 -0.003954  0.002449  0.009792  0.007008   \n",
       "1  0.007062  0.054792  0.006414 -0.003654  0.002591  0.009731  0.006824   \n",
       "2  0.007431  0.054551  0.006468 -0.003410  0.003069  0.009150  0.007100   \n",
       "3  0.006643  0.054923  0.006485 -0.003741  0.002603  0.009605  0.006857   \n",
       "4  0.007127  0.054769  0.006760 -0.004054  0.002216  0.010527  0.007025   \n",
       "\n",
       "   theta_06  theta_07  theta_08  ...  theta_18  theta_19  theta_20  theta_21  \\\n",
       "0 -0.012253  0.001501  0.001586  ...  0.029968  0.078343 -0.015539  0.032789   \n",
       "1 -0.012492  0.001748  0.001355  ...  0.030286  0.075214 -0.014672  0.033336   \n",
       "2 -0.012553  0.001517  0.001845  ...  0.031352  0.073967 -0.013793  0.031789   \n",
       "3 -0.012986  0.001931  0.002025  ...  0.030150  0.075574 -0.014799  0.032864   \n",
       "4 -0.012684  0.001756  0.001611  ...  0.029962  0.073601 -0.014057  0.033337   \n",
       "\n",
       "   theta_22  theta_23  theta_24         t  missing_n  vigor  \n",
       "0  0.030664  0.018611  0.051973  0.000299          0    NaN  \n",
       "1  0.030252  0.016750  0.051518  0.004300          0    NaN  \n",
       "2  0.030658  0.016382  0.052068  0.007300          0    NaN  \n",
       "3  0.031805  0.016760  0.051292  0.010300          0    NaN  \n",
       "4  0.030134  0.016966  0.051691  0.014301          0    NaN  \n",
       "\n",
       "[5 rows x 29 columns]"
      ]
     },
     "execution_count": 1,
     "metadata": {},
     "output_type": "execute_result"
    }
   ],
   "source": [
    "exp.compute_vigor(vigor_duration_s=0.05)\n",
    "exp.behavior_log.head()"
   ]
  },
  {
   "cell_type": "markdown",
   "metadata": {},
   "source": [
    "**2. Detect bouts**: threshold the vigor to find consecutive periods of continuous swimming. # This will return an array with the *index* (not the time) for the detected bouts start and end points.\n",
    "\n",
    "`vigor_threshold` is the threshold on the vigor in a.u.; 0.1 is a reasonable value that will work in 95% of cases."
   ]
  },
  {
   "cell_type": "code",
   "execution_count": 15,
   "metadata": {
    "execution": {
     "iopub.execute_input": "2021-02-22T21:33:33.185058Z",
     "iopub.status.busy": "2021-02-22T21:33:33.184186Z",
     "iopub.status.idle": "2021-02-22T21:33:33.504735Z",
     "shell.execute_reply": "2021-02-22T21:33:33.505137Z"
    }
   },
   "outputs": [
    {
     "data": {
      "text/plain": [
       "array([[  40,  236],\n",
       "       [ 377,  584],\n",
       "       [ 717,  887],\n",
       "       [1015, 1174]])"
      ]
     },
     "execution_count": 1,
     "metadata": {},
     "output_type": "execute_result"
    }
   ],
   "source": [
    "exp.get_bouts(vigor_threshold=0.1)"
   ]
  },
  {
   "cell_type": "markdown",
   "metadata": {},
   "source": [
    "**3. Extract bouts properties**: Infer some properties of the detected bouts. It Returns a dataframe with bout properties.\n",
    "\n",
    "`directionality_duration` is a window in seconds to compute directionality idx; lab standard is 0.07 s."
   ]
  },
  {
   "cell_type": "code",
   "execution_count": 16,
   "metadata": {
    "execution": {
     "iopub.execute_input": "2021-02-22T21:33:33.511660Z",
     "iopub.status.busy": "2021-02-22T21:33:33.510727Z",
     "iopub.status.idle": "2021-02-22T21:33:35.660272Z",
     "shell.execute_reply": "2021-02-22T21:33:35.659814Z"
    }
   },
   "outputs": [
    {
     "data": {
      "text/html": [
       "<div>\n",
       "<style scoped>\n",
       "    .dataframe tbody tr th:only-of-type {\n",
       "        vertical-align: middle;\n",
       "    }\n",
       "\n",
       "    .dataframe tbody tr th {\n",
       "        vertical-align: top;\n",
       "    }\n",
       "\n",
       "    .dataframe thead th {\n",
       "        text-align: right;\n",
       "    }\n",
       "</style>\n",
       "<table border=\"1\" class=\"dataframe\">\n",
       "  <thead>\n",
       "    <tr style=\"text-align: right;\">\n",
       "      <th></th>\n",
       "      <th>t_start</th>\n",
       "      <th>duration</th>\n",
       "      <th>peak_vig</th>\n",
       "      <th>med_vig</th>\n",
       "      <th>bias</th>\n",
       "      <th>bias_total</th>\n",
       "      <th>n_pos_peaks</th>\n",
       "      <th>n_neg_peaks</th>\n",
       "    </tr>\n",
       "  </thead>\n",
       "  <tbody>\n",
       "    <tr>\n",
       "      <th>0</th>\n",
       "      <td>0.133313</td>\n",
       "      <td>0.654065</td>\n",
       "      <td>1.934675</td>\n",
       "      <td>0.012229</td>\n",
       "      <td>-0.087974</td>\n",
       "      <td>-0.026151</td>\n",
       "      <td>15</td>\n",
       "      <td>15</td>\n",
       "    </tr>\n",
       "    <tr>\n",
       "      <th>1</th>\n",
       "      <td>1.257425</td>\n",
       "      <td>0.689069</td>\n",
       "      <td>2.929249</td>\n",
       "      <td>0.025798</td>\n",
       "      <td>0.901800</td>\n",
       "      <td>0.169295</td>\n",
       "      <td>15</td>\n",
       "      <td>14</td>\n",
       "    </tr>\n",
       "    <tr>\n",
       "      <th>2</th>\n",
       "      <td>2.390538</td>\n",
       "      <td>0.567057</td>\n",
       "      <td>3.014080</td>\n",
       "      <td>0.036779</td>\n",
       "      <td>0.900419</td>\n",
       "      <td>0.223960</td>\n",
       "      <td>13</td>\n",
       "      <td>12</td>\n",
       "    </tr>\n",
       "    <tr>\n",
       "      <th>3</th>\n",
       "      <td>3.384638</td>\n",
       "      <td>0.529053</td>\n",
       "      <td>3.910690</td>\n",
       "      <td>0.029872</td>\n",
       "      <td>0.745277</td>\n",
       "      <td>0.130034</td>\n",
       "      <td>11</td>\n",
       "      <td>13</td>\n",
       "    </tr>\n",
       "  </tbody>\n",
       "</table>\n",
       "</div>"
      ],
      "text/plain": [
       "    t_start  duration  peak_vig   med_vig      bias  bias_total  n_pos_peaks  \\\n",
       "0  0.133313  0.654065  1.934675  0.012229 -0.087974   -0.026151           15   \n",
       "1  1.257425  0.689069  2.929249  0.025798  0.901800    0.169295           15   \n",
       "2  2.390538  0.567057  3.014080  0.036779  0.900419    0.223960           13   \n",
       "3  3.384638  0.529053  3.910690  0.029872  0.745277    0.130034           11   \n",
       "\n",
       "   n_neg_peaks  \n",
       "0           15  \n",
       "1           14  \n",
       "2           12  \n",
       "3           13  "
      ]
     },
     "execution_count": 1,
     "metadata": {},
     "output_type": "execute_result"
    }
   ],
   "source": [
    "exp.get_bout_properties(directionality_duration=0.07)"
   ]
  },
  {
   "cell_type": "markdown",
   "metadata": {},
   "source": [
    "---\n",
    "**NOTE**\n",
    "\n",
    "Running exp.get_bout_properties() will work, but just beware that default arguments will be used for all the functions. I.e. at the beginning of your notebook, for a quick analysis you can just type:\n",
    "\n",
    "```python\n",
    "\n",
    "exp = EmbeddedExperiment(experiment_data_path)\n",
    "bouts_df = exp.get_bout_properties()\n",
    "\n",
    "```\n",
    "---"
   ]
  },
  {
   "cell_type": "code",
   "execution_count": null,
   "metadata": {},
   "outputs": [],
   "source": []
  }
 ],
 "metadata": {
  "kernelspec": {
   "display_name": "Python 3",
   "language": "python",
   "name": "python3"
  },
  "language_info": {
   "codemirror_mode": {
    "name": "ipython",
    "version": 3
   },
   "file_extension": ".py",
   "mimetype": "text/x-python",
   "name": "python",
   "nbconvert_exporter": "python",
   "pygments_lexer": "ipython3",
   "version": "3.8.7"
  }
 },
 "nbformat": 4,
 "nbformat_minor": 2
}
