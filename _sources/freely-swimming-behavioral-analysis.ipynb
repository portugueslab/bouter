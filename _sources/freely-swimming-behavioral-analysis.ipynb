{
 "cells": [
  {
   "cell_type": "markdown",
   "metadata": {},
   "source": [
    "## How to analyse a (Stytra) freely-swimming tracking experiment"
   ]
  },
  {
   "cell_type": "markdown",
   "metadata": {},
   "source": [
    "In this tutorial we show how to use bouter to analyse data that was aquired with [Stytra](http://www.portugueslab.com/stytra/).\n",
    "\n",
    "First, some imports:"
   ]
  },
  {
   "cell_type": "code",
   "execution_count": 1,
   "metadata": {},
   "outputs": [],
   "source": [
    "from bouter import FreelySwimmingExperiment\n",
    "from bouter import ASSETS_PATH"
   ]
  },
  {
   "cell_type": "markdown",
   "metadata": {},
   "source": [
    "Given a folder containing data from a Stytra experiment, it's very easy to instantiate an `Experiment` object. Here we use example bouter data, otherwise replace the path with the folder to your data:"
   ]
  },
  {
   "cell_type": "code",
   "execution_count": 2,
   "metadata": {},
   "outputs": [],
   "source": [
    "experiment_data_path = ASSETS_PATH / \"freely_swimming_dataset\"\n",
    "\n",
    "# Initialize the experiment:\n",
    "exp = FreelySwimmingExperiment(experiment_data_path)"
   ]
  },
  {
   "cell_type": "markdown",
   "metadata": {},
   "source": [
    "## The `Experiment` class"
   ]
  },
  {
   "cell_type": "markdown",
   "metadata": {},
   "source": [
    "`Experiment` objects are objects that behaves like dictionariers with extended magical properties.\n",
    "\n",
    "They have keys, reflecting the Stytra metadata:"
   ]
  },
  {
   "cell_type": "code",
   "execution_count": 3,
   "metadata": {},
   "outputs": [
    {
     "name": "stdout",
     "output_type": "stream",
     "text": [
      "dict_keys(['camera_params', 'general', 'gui', 'stimulus', 'tracking+bgsub', 'tracking+fish_tracking', 'tracking+source', 'behavior'])\n"
     ]
    }
   ],
   "source": [
    "print(exp.keys())"
   ]
  },
  {
   "cell_type": "markdown",
   "metadata": {},
   "source": [
    "And looking inside these keys, we found Stytra hierarchical data log:"
   ]
  },
  {
   "cell_type": "code",
   "execution_count": 4,
   "metadata": {},
   "outputs": [
    {
     "name": "stdout",
     "output_type": "stream",
     "text": [
      "{'age': 7, 'comments': '', 'dish_diameter': '90', 'embedded': False, 'genotype': 'TL', 'id': 1, 'screened': 'not', 'species': 'Danio Rerio', 'treatment': ''}\n"
     ]
    }
   ],
   "source": [
    "print(exp[\"general\"][\"animal\"])"
   ]
  },
  {
   "cell_type": "markdown",
   "metadata": {},
   "source": [
    "In addition, there are some values (*properties*) that are computed from the metadata, invoked in this way:"
   ]
  },
  {
   "cell_type": "code",
   "execution_count": 5,
   "metadata": {},
   "outputs": [
    {
     "data": {
      "text/plain": [
       "0.005946131313131322"
      ]
     },
     "execution_count": 5,
     "metadata": {},
     "output_type": "execute_result"
    }
   ],
   "source": [
    "# sampling dt of the behavioral tracking\n",
    "exp.behavior_dt"
   ]
  },
  {
   "cell_type": "markdown",
   "metadata": {},
   "source": [
    "There's several useful properties. E.g.\n",
    "\n",
    "* Fish id from folder:"
   ]
  },
  {
   "cell_type": "code",
   "execution_count": 6,
   "metadata": {},
   "outputs": [
    {
     "data": {
      "text/plain": [
       "'190702_f1'"
      ]
     },
     "execution_count": 6,
     "metadata": {},
     "output_type": "execute_result"
    }
   ],
   "source": [
    "exp.fish_id"
   ]
  },
  {
   "cell_type": "markdown",
   "metadata": {},
   "source": [
    "* Unique id for the experiment:"
   ]
  },
  {
   "cell_type": "code",
   "execution_count": 7,
   "metadata": {},
   "outputs": [
    {
     "data": {
      "text/plain": [
       "'190702_f1_162934'"
      ]
     },
     "execution_count": 7,
     "metadata": {},
     "output_type": "execute_result"
    }
   ],
   "source": [
    "exp.full_name"
   ]
  },
  {
   "cell_type": "markdown",
   "metadata": {},
   "source": [
    "* Protocol name:"
   ]
  },
  {
   "cell_type": "code",
   "execution_count": 8,
   "metadata": {},
   "outputs": [
    {
     "data": {
      "text/plain": [
       "'E0032_luminance_v4_steps_freefish'"
      ]
     },
     "execution_count": 8,
     "metadata": {},
     "output_type": "execute_result"
    }
   ],
   "source": [
    "exp.protocol_name"
   ]
  },
  {
   "cell_type": "markdown",
   "metadata": {},
   "source": [
    "* Simplified protocol parameters dict:"
   ]
  },
  {
   "cell_type": "markdown",
   "metadata": {},
   "source": [
    "There's also a couple properties unique to freely-swimming experiments:"
   ]
  },
  {
   "cell_type": "markdown",
   "metadata": {},
   "source": [
    "* Number of fish simultaneously-tracked during the experiment:"
   ]
  },
  {
   "cell_type": "code",
   "execution_count": 9,
   "metadata": {},
   "outputs": [
    {
     "data": {
      "text/plain": [
       "3"
      ]
     },
     "execution_count": 9,
     "metadata": {},
     "output_type": "execute_result"
    }
   ],
   "source": [
    "exp.n_fish"
   ]
  },
  {
   "cell_type": "markdown",
   "metadata": {},
   "source": [
    "* Pixel scale (in mm):"
   ]
  },
  {
   "cell_type": "code",
   "execution_count": 10,
   "metadata": {},
   "outputs": [
    {
     "data": {
      "text/plain": [
       "0.0574391781819578"
      ]
     },
     "execution_count": 10,
     "metadata": {},
     "output_type": "execute_result"
    }
   ],
   "source": [
    "exp.camera_px_in_mm"
   ]
  },
  {
   "cell_type": "markdown",
   "metadata": {},
   "source": [
    "## The behavioural logs"
   ]
  },
  {
   "cell_type": "markdown",
   "metadata": {},
   "source": [
    "The bulk of the behavioural data is contained in the stytra log files.\n",
    "With properties you can look at the logs of the experiments, returned as `pd.DataFrame`s; depending on what experiment you run you'll find for example:"
   ]
  },
  {
   "cell_type": "markdown",
   "metadata": {},
   "source": [
    " * `Experiment.stimulus_log`: the dynamic log of stytra stimulus"
   ]
  },
  {
   "cell_type": "code",
   "execution_count": 11,
   "metadata": {},
   "outputs": [
    {
     "data": {
      "text/html": [
       "<div>\n",
       "<style scoped>\n",
       "    .dataframe tbody tr th:only-of-type {\n",
       "        vertical-align: middle;\n",
       "    }\n",
       "\n",
       "    .dataframe tbody tr th {\n",
       "        vertical-align: top;\n",
       "    }\n",
       "\n",
       "    .dataframe thead th {\n",
       "        text-align: right;\n",
       "    }\n",
       "</style>\n",
       "<table border=\"1\" class=\"dataframe\">\n",
       "  <thead>\n",
       "    <tr style=\"text-align: right;\">\n",
       "      <th></th>\n",
       "      <th>flash_luminance</th>\n",
       "      <th>flash_current_phase</th>\n",
       "      <th>t</th>\n",
       "    </tr>\n",
       "  </thead>\n",
       "  <tbody>\n",
       "    <tr>\n",
       "      <td>0</td>\n",
       "      <td>0.321569</td>\n",
       "      <td>3</td>\n",
       "      <td>0.032209</td>\n",
       "    </tr>\n",
       "    <tr>\n",
       "      <td>1</td>\n",
       "      <td>0.321569</td>\n",
       "      <td>3</td>\n",
       "      <td>0.043202</td>\n",
       "    </tr>\n",
       "    <tr>\n",
       "      <td>2</td>\n",
       "      <td>0.321569</td>\n",
       "      <td>3</td>\n",
       "      <td>0.082181</td>\n",
       "    </tr>\n",
       "    <tr>\n",
       "      <td>3</td>\n",
       "      <td>0.321569</td>\n",
       "      <td>3</td>\n",
       "      <td>0.096173</td>\n",
       "    </tr>\n",
       "    <tr>\n",
       "      <td>4</td>\n",
       "      <td>0.321569</td>\n",
       "      <td>3</td>\n",
       "      <td>0.136150</td>\n",
       "    </tr>\n",
       "  </tbody>\n",
       "</table>\n",
       "</div>"
      ],
      "text/plain": [
       "   flash_luminance  flash_current_phase         t\n",
       "0         0.321569                    3  0.032209\n",
       "1         0.321569                    3  0.043202\n",
       "2         0.321569                    3  0.082181\n",
       "3         0.321569                    3  0.096173\n",
       "4         0.321569                    3  0.136150"
      ]
     },
     "execution_count": 11,
     "metadata": {},
     "output_type": "execute_result"
    }
   ],
   "source": [
    "exp.stimulus_log.head()"
   ]
  },
  {
   "cell_type": "markdown",
   "metadata": {},
   "source": [
    " * `Experiment.behavior_log`: the dynamic log of the tracked tail (or eye, position, etc.):"
   ]
  },
  {
   "cell_type": "code",
   "execution_count": 12,
   "metadata": {},
   "outputs": [
    {
     "data": {
      "text/html": [
       "<div>\n",
       "<style scoped>\n",
       "    .dataframe tbody tr th:only-of-type {\n",
       "        vertical-align: middle;\n",
       "    }\n",
       "\n",
       "    .dataframe tbody tr th {\n",
       "        vertical-align: top;\n",
       "    }\n",
       "\n",
       "    .dataframe thead th {\n",
       "        text-align: right;\n",
       "    }\n",
       "</style>\n",
       "<table border=\"1\" class=\"dataframe\">\n",
       "  <thead>\n",
       "    <tr style=\"text-align: right;\">\n",
       "      <th></th>\n",
       "      <th>f0_x</th>\n",
       "      <th>f0_vx</th>\n",
       "      <th>f0_y</th>\n",
       "      <th>f0_vy</th>\n",
       "      <th>f0_theta</th>\n",
       "      <th>f0_vtheta</th>\n",
       "      <th>f0_theta_00</th>\n",
       "      <th>f0_theta_01</th>\n",
       "      <th>f0_theta_02</th>\n",
       "      <th>f0_theta_03</th>\n",
       "      <th>...</th>\n",
       "      <th>f2_theta_01</th>\n",
       "      <th>f2_theta_02</th>\n",
       "      <th>f2_theta_03</th>\n",
       "      <th>f2_theta_04</th>\n",
       "      <th>f2_theta_05</th>\n",
       "      <th>f2_theta_06</th>\n",
       "      <th>f2_theta_07</th>\n",
       "      <th>f2_theta_08</th>\n",
       "      <th>biggest_area</th>\n",
       "      <th>t</th>\n",
       "    </tr>\n",
       "  </thead>\n",
       "  <tbody>\n",
       "    <tr>\n",
       "      <td>0</td>\n",
       "      <td>41.546274</td>\n",
       "      <td>0.007476</td>\n",
       "      <td>350.896564</td>\n",
       "      <td>0.004628</td>\n",
       "      <td>-4.746267</td>\n",
       "      <td>0.000974</td>\n",
       "      <td>0.036654</td>\n",
       "      <td>-0.021526</td>\n",
       "      <td>-0.001781</td>\n",
       "      <td>-0.009501</td>\n",
       "      <td>...</td>\n",
       "      <td>-0.016728</td>\n",
       "      <td>-0.023253</td>\n",
       "      <td>0.014678</td>\n",
       "      <td>0.020809</td>\n",
       "      <td>-0.009445</td>\n",
       "      <td>-0.055805</td>\n",
       "      <td>-0.043146</td>\n",
       "      <td>-0.034646</td>\n",
       "      <td>620.0</td>\n",
       "      <td>0.001227</td>\n",
       "    </tr>\n",
       "    <tr>\n",
       "      <td>1</td>\n",
       "      <td>41.542469</td>\n",
       "      <td>0.002044</td>\n",
       "      <td>350.829042</td>\n",
       "      <td>-0.030117</td>\n",
       "      <td>-4.744876</td>\n",
       "      <td>0.001175</td>\n",
       "      <td>0.032205</td>\n",
       "      <td>-0.012167</td>\n",
       "      <td>-0.004461</td>\n",
       "      <td>-0.014391</td>\n",
       "      <td>...</td>\n",
       "      <td>-0.021440</td>\n",
       "      <td>-0.018496</td>\n",
       "      <td>0.017306</td>\n",
       "      <td>0.017805</td>\n",
       "      <td>-0.008430</td>\n",
       "      <td>-0.024853</td>\n",
       "      <td>-0.024479</td>\n",
       "      <td>-0.028084</td>\n",
       "      <td>628.0</td>\n",
       "      <td>0.006224</td>\n",
       "    </tr>\n",
       "    <tr>\n",
       "      <td>2</td>\n",
       "      <td>41.531554</td>\n",
       "      <td>-0.004196</td>\n",
       "      <td>350.790006</td>\n",
       "      <td>-0.034412</td>\n",
       "      <td>-4.759510</td>\n",
       "      <td>-0.006438</td>\n",
       "      <td>0.073544</td>\n",
       "      <td>-0.009692</td>\n",
       "      <td>0.024183</td>\n",
       "      <td>0.010462</td>\n",
       "      <td>...</td>\n",
       "      <td>0.032950</td>\n",
       "      <td>0.006999</td>\n",
       "      <td>0.021144</td>\n",
       "      <td>0.033250</td>\n",
       "      <td>-0.004284</td>\n",
       "      <td>-0.026720</td>\n",
       "      <td>-0.029375</td>\n",
       "      <td>0.007819</td>\n",
       "      <td>620.0</td>\n",
       "      <td>0.012220</td>\n",
       "    </tr>\n",
       "    <tr>\n",
       "      <td>3</td>\n",
       "      <td>41.546247</td>\n",
       "      <td>0.004899</td>\n",
       "      <td>350.858182</td>\n",
       "      <td>0.014991</td>\n",
       "      <td>-4.751920</td>\n",
       "      <td>0.000318</td>\n",
       "      <td>0.024109</td>\n",
       "      <td>-0.004673</td>\n",
       "      <td>0.002057</td>\n",
       "      <td>0.002295</td>\n",
       "      <td>...</td>\n",
       "      <td>0.044432</td>\n",
       "      <td>-0.026206</td>\n",
       "      <td>0.016509</td>\n",
       "      <td>0.022831</td>\n",
       "      <td>0.002999</td>\n",
       "      <td>-0.020768</td>\n",
       "      <td>-0.020675</td>\n",
       "      <td>-0.041094</td>\n",
       "      <td>624.0</td>\n",
       "      <td>0.017218</td>\n",
       "    </tr>\n",
       "    <tr>\n",
       "      <td>4</td>\n",
       "      <td>41.556303</td>\n",
       "      <td>0.007383</td>\n",
       "      <td>350.799283</td>\n",
       "      <td>-0.020592</td>\n",
       "      <td>-4.754406</td>\n",
       "      <td>-0.001033</td>\n",
       "      <td>0.061924</td>\n",
       "      <td>-0.005466</td>\n",
       "      <td>-0.001543</td>\n",
       "      <td>-0.004187</td>\n",
       "      <td>...</td>\n",
       "      <td>-0.012961</td>\n",
       "      <td>-0.009367</td>\n",
       "      <td>0.014739</td>\n",
       "      <td>0.038174</td>\n",
       "      <td>-0.002141</td>\n",
       "      <td>-0.035898</td>\n",
       "      <td>-0.012279</td>\n",
       "      <td>-0.028410</td>\n",
       "      <td>632.0</td>\n",
       "      <td>0.023215</td>\n",
       "    </tr>\n",
       "  </tbody>\n",
       "</table>\n",
       "<p>5 rows × 47 columns</p>\n",
       "</div>"
      ],
      "text/plain": [
       "        f0_x     f0_vx        f0_y     f0_vy  f0_theta  f0_vtheta  \\\n",
       "0  41.546274  0.007476  350.896564  0.004628 -4.746267   0.000974   \n",
       "1  41.542469  0.002044  350.829042 -0.030117 -4.744876   0.001175   \n",
       "2  41.531554 -0.004196  350.790006 -0.034412 -4.759510  -0.006438   \n",
       "3  41.546247  0.004899  350.858182  0.014991 -4.751920   0.000318   \n",
       "4  41.556303  0.007383  350.799283 -0.020592 -4.754406  -0.001033   \n",
       "\n",
       "   f0_theta_00  f0_theta_01  f0_theta_02  f0_theta_03  ...  f2_theta_01  \\\n",
       "0     0.036654    -0.021526    -0.001781    -0.009501  ...    -0.016728   \n",
       "1     0.032205    -0.012167    -0.004461    -0.014391  ...    -0.021440   \n",
       "2     0.073544    -0.009692     0.024183     0.010462  ...     0.032950   \n",
       "3     0.024109    -0.004673     0.002057     0.002295  ...     0.044432   \n",
       "4     0.061924    -0.005466    -0.001543    -0.004187  ...    -0.012961   \n",
       "\n",
       "   f2_theta_02  f2_theta_03  f2_theta_04  f2_theta_05  f2_theta_06  \\\n",
       "0    -0.023253     0.014678     0.020809    -0.009445    -0.055805   \n",
       "1    -0.018496     0.017306     0.017805    -0.008430    -0.024853   \n",
       "2     0.006999     0.021144     0.033250    -0.004284    -0.026720   \n",
       "3    -0.026206     0.016509     0.022831     0.002999    -0.020768   \n",
       "4    -0.009367     0.014739     0.038174    -0.002141    -0.035898   \n",
       "\n",
       "   f2_theta_07  f2_theta_08  biggest_area         t  \n",
       "0    -0.043146    -0.034646         620.0  0.001227  \n",
       "1    -0.024479    -0.028084         628.0  0.006224  \n",
       "2    -0.029375     0.007819         620.0  0.012220  \n",
       "3    -0.020675    -0.041094         624.0  0.017218  \n",
       "4    -0.012279    -0.028410         632.0  0.023215  \n",
       "\n",
       "[5 rows x 47 columns]"
      ]
     },
     "execution_count": 12,
     "metadata": {},
     "output_type": "execute_result"
    }
   ],
   "source": [
    "exp.behavior_log.head()"
   ]
  },
  {
   "cell_type": "markdown",
   "metadata": {},
   "source": [
    "### Filter the tail log"
   ]
  },
  {
   "cell_type": "markdown",
   "metadata": {},
   "source": [
    "Sometimes, Stytra's tail-tracking can miss the last tail segments. This can be fixed using a custom interpolation function (`reconstruct_missing_segments`), which uses n=`continue_curvature` tracked segments to average the difference of consecutive segments and fill the nan values using the same incremental difference. This in general is safe as long as the tail tracking was not completely off.\n",
    "\n",
    "To use it, before using the behavior log, run the following:"
   ]
  },
  {
   "cell_type": "code",
   "execution_count": 13,
   "metadata": {},
   "outputs": [
    {
     "data": {
      "text/html": [
       "<div>\n",
       "<style scoped>\n",
       "    .dataframe tbody tr th:only-of-type {\n",
       "        vertical-align: middle;\n",
       "    }\n",
       "\n",
       "    .dataframe tbody tr th {\n",
       "        vertical-align: top;\n",
       "    }\n",
       "\n",
       "    .dataframe thead th {\n",
       "        text-align: right;\n",
       "    }\n",
       "</style>\n",
       "<table border=\"1\" class=\"dataframe\">\n",
       "  <thead>\n",
       "    <tr style=\"text-align: right;\">\n",
       "      <th></th>\n",
       "      <th>f0_x</th>\n",
       "      <th>f0_vx</th>\n",
       "      <th>f0_y</th>\n",
       "      <th>f0_vy</th>\n",
       "      <th>f0_theta</th>\n",
       "      <th>f0_vtheta</th>\n",
       "      <th>f0_theta_00</th>\n",
       "      <th>f0_theta_01</th>\n",
       "      <th>f0_theta_02</th>\n",
       "      <th>f0_theta_03</th>\n",
       "      <th>...</th>\n",
       "      <th>f2_theta_04</th>\n",
       "      <th>f2_theta_05</th>\n",
       "      <th>f2_theta_06</th>\n",
       "      <th>f2_theta_07</th>\n",
       "      <th>f2_theta_08</th>\n",
       "      <th>biggest_area</th>\n",
       "      <th>t</th>\n",
       "      <th>f0_missing_n</th>\n",
       "      <th>f1_missing_n</th>\n",
       "      <th>f2_missing_n</th>\n",
       "    </tr>\n",
       "  </thead>\n",
       "  <tbody>\n",
       "    <tr>\n",
       "      <td>0</td>\n",
       "      <td>41.546274</td>\n",
       "      <td>0.007476</td>\n",
       "      <td>350.896564</td>\n",
       "      <td>0.004628</td>\n",
       "      <td>-4.746267</td>\n",
       "      <td>0.000974</td>\n",
       "      <td>0.036654</td>\n",
       "      <td>-0.021526</td>\n",
       "      <td>-0.001781</td>\n",
       "      <td>-0.009501</td>\n",
       "      <td>...</td>\n",
       "      <td>0.020809</td>\n",
       "      <td>-0.009445</td>\n",
       "      <td>-0.055805</td>\n",
       "      <td>-0.043146</td>\n",
       "      <td>-0.034646</td>\n",
       "      <td>620.0</td>\n",
       "      <td>0.001227</td>\n",
       "      <td>0</td>\n",
       "      <td>0</td>\n",
       "      <td>0</td>\n",
       "    </tr>\n",
       "    <tr>\n",
       "      <td>1</td>\n",
       "      <td>41.542469</td>\n",
       "      <td>0.002044</td>\n",
       "      <td>350.829042</td>\n",
       "      <td>-0.030117</td>\n",
       "      <td>-4.744876</td>\n",
       "      <td>0.001175</td>\n",
       "      <td>0.032205</td>\n",
       "      <td>-0.012167</td>\n",
       "      <td>-0.004461</td>\n",
       "      <td>-0.014391</td>\n",
       "      <td>...</td>\n",
       "      <td>0.017805</td>\n",
       "      <td>-0.008430</td>\n",
       "      <td>-0.024853</td>\n",
       "      <td>-0.024479</td>\n",
       "      <td>-0.028084</td>\n",
       "      <td>628.0</td>\n",
       "      <td>0.006224</td>\n",
       "      <td>0</td>\n",
       "      <td>0</td>\n",
       "      <td>0</td>\n",
       "    </tr>\n",
       "    <tr>\n",
       "      <td>2</td>\n",
       "      <td>41.531554</td>\n",
       "      <td>-0.004196</td>\n",
       "      <td>350.790006</td>\n",
       "      <td>-0.034412</td>\n",
       "      <td>-4.759510</td>\n",
       "      <td>-0.006438</td>\n",
       "      <td>0.073544</td>\n",
       "      <td>-0.009692</td>\n",
       "      <td>0.024183</td>\n",
       "      <td>0.010462</td>\n",
       "      <td>...</td>\n",
       "      <td>0.033250</td>\n",
       "      <td>-0.004284</td>\n",
       "      <td>-0.026720</td>\n",
       "      <td>-0.029375</td>\n",
       "      <td>0.007819</td>\n",
       "      <td>620.0</td>\n",
       "      <td>0.012220</td>\n",
       "      <td>0</td>\n",
       "      <td>0</td>\n",
       "      <td>0</td>\n",
       "    </tr>\n",
       "    <tr>\n",
       "      <td>3</td>\n",
       "      <td>41.546247</td>\n",
       "      <td>0.004899</td>\n",
       "      <td>350.858182</td>\n",
       "      <td>0.014991</td>\n",
       "      <td>-4.751920</td>\n",
       "      <td>0.000318</td>\n",
       "      <td>0.024109</td>\n",
       "      <td>-0.004673</td>\n",
       "      <td>0.002057</td>\n",
       "      <td>0.002295</td>\n",
       "      <td>...</td>\n",
       "      <td>0.022831</td>\n",
       "      <td>0.002999</td>\n",
       "      <td>-0.020768</td>\n",
       "      <td>-0.020675</td>\n",
       "      <td>-0.041094</td>\n",
       "      <td>624.0</td>\n",
       "      <td>0.017218</td>\n",
       "      <td>0</td>\n",
       "      <td>0</td>\n",
       "      <td>0</td>\n",
       "    </tr>\n",
       "    <tr>\n",
       "      <td>4</td>\n",
       "      <td>41.556303</td>\n",
       "      <td>0.007383</td>\n",
       "      <td>350.799283</td>\n",
       "      <td>-0.020592</td>\n",
       "      <td>-4.754406</td>\n",
       "      <td>-0.001033</td>\n",
       "      <td>0.061924</td>\n",
       "      <td>-0.005466</td>\n",
       "      <td>-0.001543</td>\n",
       "      <td>-0.004187</td>\n",
       "      <td>...</td>\n",
       "      <td>0.038174</td>\n",
       "      <td>-0.002141</td>\n",
       "      <td>-0.035898</td>\n",
       "      <td>-0.012279</td>\n",
       "      <td>-0.028410</td>\n",
       "      <td>632.0</td>\n",
       "      <td>0.023215</td>\n",
       "      <td>0</td>\n",
       "      <td>0</td>\n",
       "      <td>0</td>\n",
       "    </tr>\n",
       "  </tbody>\n",
       "</table>\n",
       "<p>5 rows × 50 columns</p>\n",
       "</div>"
      ],
      "text/plain": [
       "        f0_x     f0_vx        f0_y     f0_vy  f0_theta  f0_vtheta  \\\n",
       "0  41.546274  0.007476  350.896564  0.004628 -4.746267   0.000974   \n",
       "1  41.542469  0.002044  350.829042 -0.030117 -4.744876   0.001175   \n",
       "2  41.531554 -0.004196  350.790006 -0.034412 -4.759510  -0.006438   \n",
       "3  41.546247  0.004899  350.858182  0.014991 -4.751920   0.000318   \n",
       "4  41.556303  0.007383  350.799283 -0.020592 -4.754406  -0.001033   \n",
       "\n",
       "   f0_theta_00  f0_theta_01  f0_theta_02  f0_theta_03  ...  f2_theta_04  \\\n",
       "0     0.036654    -0.021526    -0.001781    -0.009501  ...     0.020809   \n",
       "1     0.032205    -0.012167    -0.004461    -0.014391  ...     0.017805   \n",
       "2     0.073544    -0.009692     0.024183     0.010462  ...     0.033250   \n",
       "3     0.024109    -0.004673     0.002057     0.002295  ...     0.022831   \n",
       "4     0.061924    -0.005466    -0.001543    -0.004187  ...     0.038174   \n",
       "\n",
       "   f2_theta_05  f2_theta_06  f2_theta_07  f2_theta_08  biggest_area         t  \\\n",
       "0    -0.009445    -0.055805    -0.043146    -0.034646         620.0  0.001227   \n",
       "1    -0.008430    -0.024853    -0.024479    -0.028084         628.0  0.006224   \n",
       "2    -0.004284    -0.026720    -0.029375     0.007819         620.0  0.012220   \n",
       "3     0.002999    -0.020768    -0.020675    -0.041094         624.0  0.017218   \n",
       "4    -0.002141    -0.035898    -0.012279    -0.028410         632.0  0.023215   \n",
       "\n",
       "   f0_missing_n  f1_missing_n  f2_missing_n  \n",
       "0             0             0             0  \n",
       "1             0             0             0  \n",
       "2             0             0             0  \n",
       "3             0             0             0  \n",
       "4             0             0             0  \n",
       "\n",
       "[5 rows x 50 columns]"
      ]
     },
     "execution_count": 13,
     "metadata": {},
     "output_type": "execute_result"
    }
   ],
   "source": [
    "exp.reconstruct_missing_segments(continue_curvature=4)\n",
    "exp.behavior_log.head()"
   ]
  },
  {
   "cell_type": "markdown",
   "metadata": {},
   "source": [
    "Note that the behavior_log `pd.DataFrame` has now new columns at the end (`f0_missing_n`, `f1_missing_n`...). These columns, signal, for each fish tracked in the experiment, how many tail segments had to be filled for each timepoint."
   ]
  },
  {
   "cell_type": "markdown",
   "metadata": {},
   "source": [
    "### Extract and analyse bouts"
   ]
  },
  {
   "cell_type": "markdown",
   "metadata": {},
   "source": [
    "In order to analyse the bouts, certain steps need to happen:\n",
    "\n",
    "1. Compute the fish swimming velocity.\n",
    "2. Detect bouts.\n",
    "3. (Optional) Extract bout statistics."
   ]
  },
  {
   "cell_type": "markdown",
   "metadata": {},
   "source": [
    "**1. Compute velocity**: the behavior_log returned by Stytra records the `x` and `y` components of the fish velocity. From here, the velocity at each timepoint must be calculated.\n",
    "\n",
    "This is done by the `exp.compute_velocity` method, which returns a new `pd.DataFrame` with the squared velocities for each fish. However, we don't need to call the method directly, as it will be invoked directly by our bout-detection method."
   ]
  },
  {
   "cell_type": "markdown",
   "metadata": {},
   "source": [
    "**2. Detect bouts**: the velocity can then be thresholded in order to detect consecutive periods of continuous swimming with the `exp.get_bouts()` method.\n",
    "\n",
    "You can pass additional arguments to this method, such as:\n",
    "\n",
    "* `median_vel`: Boolean. Indicates whether the median of the squared velocity should be calculated before the bout detection in order to smooth a bit the data.\n",
    "* `window_size`: Size of the rolling window used to perform the rolling median (if desired)\n",
    "* `threshold`: Velocity threshold above which the fish will be considered to be swimming."
   ]
  },
  {
   "cell_type": "code",
   "execution_count": 15,
   "metadata": {},
   "outputs": [],
   "source": [
    "bouts = exp.get_bouts()"
   ]
  },
  {
   "cell_type": "markdown",
   "metadata": {},
   "source": [
    "Calling this method will return a list with two elements:\n",
    "\n",
    "* A list with all the bouts extracted from each fish. This list will consist of as many sublists as fish were tracked during the experiment (`exp.n_fish`), and inside each of these sublists, there will be one dataframe for each detected bout, with all the data gathered during the duration of the bout.\n",
    "\n",
    "* A list of boolean arrays, indicating, for each bout (for each fish), whether the data was continuous during the full duration of the bout."
   ]
  },
  {
   "cell_type": "code",
   "execution_count": 16,
   "metadata": {},
   "outputs": [
    {
     "name": "stdout",
     "output_type": "stream",
     "text": [
      "5 bouts detected for fish 1\n",
      "2 bouts detected for fish 2\n",
      "2 bouts detected for fish 3\n"
     ]
    }
   ],
   "source": [
    "for i_fish in range(exp.n_fish):\n",
    "    print( \"{} bouts detected for fish {}\".format(len(bouts[0][i_fish]), i_fish+1))"
   ]
  },
  {
   "cell_type": "markdown",
   "metadata": {},
   "source": [
    "**3. Extract bouts properties**: Finally, the method `exp.get_bout_properties` will return a summary `pd.DataFrame` with all the bouts detected during the experiment across all fish."
   ]
  },
  {
   "cell_type": "code",
   "execution_count": 17,
   "metadata": {},
   "outputs": [],
   "source": [
    "bout_summary = exp.get_bout_properties()"
   ]
  },
  {
   "cell_type": "markdown",
   "metadata": {},
   "source": [
    "We can now make a simple plot to check the accuracy od the detected bouts:"
   ]
  },
  {
   "cell_type": "code",
   "execution_count": 18,
   "metadata": {},
   "outputs": [],
   "source": [
    "import matplotlib.pyplot as plt"
   ]
  },
  {
   "cell_type": "code",
   "execution_count": 22,
   "metadata": {},
   "outputs": [
    {
     "data": {
      "image/png": "[encoded data removed]",
      "text/plain": [
       "<Figure size 648x432 with 3 Axes>"
      ]
     },
     "metadata": {
      "needs_background": "light"
     },
     "output_type": "display_data"
    }
   ],
   "source": [
    "fig, axes = plt.subplots(3, 1, figsize=(9, 6), sharex=True)\n",
    "\n",
    "#Compute fish velocities for plotting\n",
    "velocities_df = exp.compute_velocity()\n",
    "\n",
    "#Plot fish velocities\n",
    "for i_fish in range(exp.n_fish):\n",
    "    axes[i_fish].plot(exp.behavior_log['t'], velocities_df[\"vel2_f{}\".format(i_fish)])\n",
    "\n",
    "#Plot bout start and end times.\n",
    "for idx, bout in bout_summary.iterrows():\n",
    "    axes[int(bout['i_fish'])].axvline(bout['t_start'], c='green', ls=':', alpha=.75)\n",
    "    axes[int(bout['i_fish'])].axvline(bout['t_end'], c='red', ls=':', alpha=.75)\n",
    "\n",
    "axes[1].set_ylabel('Squared velocity')\n",
    "axes[2].set_xlabel('Time [s.]');"
   ]
  },
  {
   "cell_type": "markdown",
   "metadata": {
    "pycharm": {
     "name": "#%% md\n"
    }
   },
   "source": [
    "---\n",
    "**NOTE**\n",
    "\n",
    "The exp.get_bout_properties() can be used directly without going through all these steps, but be aware that in this case, all the functions will be called with default arguments.\n",
    "\n",
    "---\n"
   ]
  }
 ],
 "metadata": {
  "kernelspec": {
   "display_name": "Python 3",
   "language": "python",
   "name": "python3"
  },
  "language_info": {
   "codemirror_mode": {
    "name": "ipython",
    "version": 3
   },
   "file_extension": ".py",
   "mimetype": "text/x-python",
   "name": "python",
   "nbconvert_exporter": "python",
   "pygments_lexer": "ipython3",
   "version": "3.7.3"
  }
 },
 "nbformat": 4,
 "nbformat_minor": 2
}