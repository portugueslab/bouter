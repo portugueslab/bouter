{
 "cells": [
  {
   "cell_type": "markdown",
   "metadata": {},
   "source": [
    "## How to analyse a (Stytra) embedded tail tracking experiment"
   ]
  },
  {
   "cell_type": "markdown",
   "metadata": {},
   "source": [
    "In this tutorial we show how to use bouter to analyse data that was aquired with [Stytra](http://www.portugueslab.com/stytra/).\n",
    "\n",
    "First, some imports:"
   ]
  },
  {
   "cell_type": "code",
   "execution_count": 1,
   "metadata": {},
   "outputs": [
    {
     "name": "stdout",
     "output_type": "stream",
     "text": [
      "/Users/luigipetrucco/lab_code/bouter/bouter/tests/assets\n",
      "/Users/luigipetrucco/lab_code/bouter/bouter/tests/assets\n"
     ]
    }
   ],
   "source": [
    "from bouter import EmbeddedExperiment\n",
    "from bouter import ASSETS_PATH"
   ]
  },
  {
   "cell_type": "markdown",
   "metadata": {},
   "source": [
    "Given a folder containing data from a Stytra experiment, it's very easy to instantiate an `Experiment` object. Here we use example bouter data, otherwise replace the path with the folder to your data:"
   ]
  },
  {
   "cell_type": "code",
   "execution_count": 3,
   "metadata": {},
   "outputs": [],
   "source": [
    "experiment_data_path = ASSETS_PATH / \"embedded_dataset\"\n",
    "\n",
    "# Initialize the experiment:\n",
    "exp = EmbeddedExperiment(experiment_data_path)"
   ]
  },
  {
   "cell_type": "markdown",
   "metadata": {},
   "source": [
    "## The `Experiment` class"
   ]
  },
  {
   "cell_type": "markdown",
   "metadata": {},
   "source": [
    "`Experiment` objects are objects that behaves like dictionariers with extended magical properties.\n",
    "\n",
    "They have keys, reflecting the Stytra metadata:"
   ]
  },
  {
   "cell_type": "code",
   "execution_count": 4,
   "metadata": {},
   "outputs": [
    {
     "name": "stdout",
     "output_type": "stream",
     "text": [
      "dict_keys(['camera_params', 'general', 'gui', 'stimulus', 'behavior'])\n"
     ]
    }
   ],
   "source": [
    "print(exp.keys())"
   ]
  },
  {
   "cell_type": "markdown",
   "metadata": {},
   "source": [
    "And looking inside these keys, we found Stytra hierarchical data log:"
   ]
  },
  {
   "cell_type": "code",
   "execution_count": null,
   "metadata": {},
   "outputs": [],
   "source": [
    "print(exp[\"general\"][\"animal\"])"
   ]
  },
  {
   "cell_type": "markdown",
   "metadata": {},
   "source": [
    "In addition, there are some values (*properties*) that are computed from the metadata, invoked in this way:"
   ]
  },
  {
   "cell_type": "code",
   "execution_count": null,
   "metadata": {},
   "outputs": [],
   "source": [
    "# sampling dt of the behavioral tracking\n",
    "exp.behavior_dt"
   ]
  },
  {
   "cell_type": "markdown",
   "metadata": {},
   "source": [
    "There's several useful properties. E.g.\n",
    "\n",
    "* Fish id from folder:"
   ]
  },
  {
   "cell_type": "code",
   "execution_count": null,
   "metadata": {},
   "outputs": [],
   "source": [
    "exp.fish_id"
   ]
  },
  {
   "cell_type": "markdown",
   "metadata": {},
   "source": [
    "* Unique id for the experiment:"
   ]
  },
  {
   "cell_type": "code",
   "execution_count": null,
   "metadata": {},
   "outputs": [],
   "source": [
    "exp.full_name"
   ]
  },
  {
   "cell_type": "markdown",
   "metadata": {},
   "source": [
    "* Protocol name:"
   ]
  },
  {
   "cell_type": "code",
   "execution_count": null,
   "metadata": {},
   "outputs": [],
   "source": [
    "exp.protocol_name"
   ]
  },
  {
   "cell_type": "markdown",
   "metadata": {},
   "source": [
    "* Simplified protocol parameters dict:"
   ]
  },
  {
   "cell_type": "code",
   "execution_count": null,
   "metadata": {},
   "outputs": [],
   "source": [
    "exp.protocol_parameters"
   ]
  },
  {
   "cell_type": "markdown",
   "metadata": {},
   "source": [
    "* Start and end times of each stimulus in the log:"
   ]
  },
  {
   "cell_type": "code",
   "execution_count": null,
   "metadata": {},
   "outputs": [],
   "source": [
    "(exp.stim_start_times, exp.stim_end_times)"
   ]
  },
  {
   "cell_type": "markdown",
   "metadata": {},
   "source": [
    "## The behavioural logs"
   ]
  },
  {
   "cell_type": "markdown",
   "metadata": {},
   "source": [
    "The bulk of the behavioural data is contained in the stytra log files.\n",
    "With properties you can look at the logs of the experiments, returned as `pd.DataFrame`s; depending on what experiment you run you'll find for example:"
   ]
  },
  {
   "cell_type": "markdown",
   "metadata": {},
   "source": [
    " * `Experiment.stimulus_log`: the dynamic log of stytra stimulus"
   ]
  },
  {
   "cell_type": "code",
   "execution_count": null,
   "metadata": {},
   "outputs": [],
   "source": [
    "exp.stimulus_log.head()"
   ]
  },
  {
   "cell_type": "markdown",
   "metadata": {},
   "source": [
    " * `Experiment.behavior_log`: the dynamic log of the tracked tail (or eye, position, etc.):"
   ]
  },
  {
   "cell_type": "code",
   "execution_count": null,
   "metadata": {},
   "outputs": [],
   "source": [
    "exp.behavior_log.head()"
   ]
  },
  {
   "cell_type": "markdown",
   "metadata": {},
   "source": [
    "### Filter the tail log"
   ]
  },
  {
   "cell_type": "markdown",
   "metadata": {},
   "source": [
    "Sometimes, Stytra will mess the tracking of the last tail segments. Luckily, this can be fixed using a custom interpolation function. It uses n=`continue_curvature` points to average the difference of consecutive segments and fill the nan values using the same incremental difference. This in general is safe as long as the tail tracking was not completely off.\n",
    "\n",
    "To use it, before using the behavior log, run the following:"
   ]
  },
  {
   "cell_type": "code",
   "execution_count": null,
   "metadata": {},
   "outputs": [],
   "source": [
    "exp.reconstruct_missing_segments(continue_curvature=4)\n",
    "exp.behavior_log.head()"
   ]
  },
  {
   "cell_type": "markdown",
   "metadata": {},
   "source": [
    "### Extract and analyse bouts"
   ]
  },
  {
   "cell_type": "markdown",
   "metadata": {},
   "source": [
    "To analyse bouts, we will need to:\n",
    "\n",
    "1. Compute vigor\n",
    "2. Detect bouts\n",
    "3. (Optional) Extract bout statistics"
   ]
  },
  {
   "cell_type": "markdown",
   "metadata": {},
   "source": [
    "**1. Compute vigor**: use a rolling standard deviation to infer fish speed. After calling the function, a `exp._behavior_log[\"vigor\"]` column is added to our `exp._behavior_log` dataframe.\n",
    "\n",
    "`vigor_duration_s` is the window for the rolling std in s; the default 0.05 is the lab standard."
   ]
  },
  {
   "cell_type": "code",
   "execution_count": null,
   "metadata": {},
   "outputs": [],
   "source": [
    "exp.compute_vigor(vigor_duration_s=0.05)\n",
    "exp.behavior_log.head()"
   ]
  },
  {
   "cell_type": "markdown",
   "metadata": {},
   "source": [
    "**2. Detect bouts**: threshold the vigor to find consecutive periods of continuous swimming. # This will return an array with the *index* (not the time) for the detected bouts start and end points.\n",
    "\n",
    "`vigor_threshold` is the threshold on the vigor in a.u.; 0.1 is a reasonable value that will work in 95% of cases."
   ]
  },
  {
   "cell_type": "code",
   "execution_count": null,
   "metadata": {},
   "outputs": [],
   "source": [
    "exp.get_bouts(vigor_threshold=0.1)"
   ]
  },
  {
   "cell_type": "markdown",
   "metadata": {},
   "source": [
    "**3. Extract bouts properties**: Infer some properties of the detected bouts. It Returns a dataframe with bout properties.\n",
    "\n",
    "`directionality_duration` is a window in seconds to compute directionality idx; lab standard is 0.07 s."
   ]
  },
  {
   "cell_type": "code",
   "execution_count": null,
   "metadata": {},
   "outputs": [],
   "source": [
    "exp.get_bout_properties(directionality_duration=0.07)"
   ]
  },
  {
   "cell_type": "markdown",
   "metadata": {},
   "source": [
    "---\n",
    "**NOTE**\n",
    "\n",
    "Running exp.get_bout_properties() will work, but just beware that default arguments will be used for all the functions. I.e. at the beginning of your notebook, for a quick analysis you can just type:\n",
    "\n",
    "```python\n",
    "\n",
    "exp = EmbeddedExperiment(experiment_data_path)\n",
    "bouts_df = exp.get_bout_properties()\n",
    "\n",
    "```\n",
    "---"
   ]
  },
  {
   "cell_type": "code",
   "execution_count": null,
   "metadata": {},
   "outputs": [],
   "source": []
  }
 ],
 "metadata": {
  "kernelspec": {
   "display_name": "Python 3",
   "language": "python",
   "name": "python3"
  },
  "language_info": {
   "codemirror_mode": {
    "name": "ipython",
    "version": 3
   },
   "file_extension": ".py",
   "mimetype": "text/x-python",
   "name": "python",
   "nbconvert_exporter": "python",
   "pygments_lexer": "ipython3",
   "version": "3.7.3"
  }
 },
 "nbformat": 4,
 "nbformat_minor": 2
}